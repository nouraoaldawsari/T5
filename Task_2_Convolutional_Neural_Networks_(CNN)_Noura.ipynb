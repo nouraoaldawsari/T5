{
  "cells": [
    {
      "cell_type": "markdown",
      "metadata": {
        "id": "view-in-github",
        "colab_type": "text"
      },
      "source": [
        "<a href=\"https://colab.research.google.com/github/nouraoaldawsari/T5/blob/main/Task_2_Convolutional_Neural_Networks_(CNN)_Noura.ipynb\" target=\"_parent\"><img src=\"https://colab.research.google.com/assets/colab-badge.svg\" alt=\"Open In Colab\"/></a>"
      ]
    },
    {
      "cell_type": "markdown",
      "id": "69e7471b",
      "metadata": {
        "id": "69e7471b"
      },
      "source": [
        "# Exam on Convolutional Neural Networks (CNN)\n",
        "\n",
        "Welcome to the Convolutional Neural Networks (CNN) practical exam. In this exam, you will work on an image classification task to predict the type of traffic sign. You are provided with a dataset of traffic sign images, and your task is to build, train, and evaluate a CNN model.\n",
        "\n",
        "---\n",
        "\n",
        "## Dataset Overview\n",
        "### **Dataset:**\n",
        "* Just run the command under the `Load Data` section to get the data downloaded and unzipped or you can access it [here](https://drive.google.com/file/d/1HwMV-Lt_sWoxc5v6igmTxTwomS3DR6cQ/view?usp=sharing)\n",
        "### **Dataset Name:** Traffic Signs\n",
        "\n",
        "### **Description:**  \n",
        "The dataset contains images of various German traffic signs labeled for classification purposes. Each image belongs to one of the 43 classes, representing different types of traffic signs.\n",
        "\n",
        "### **Labels:**\n",
        "```python\n",
        "classes = {\n",
        "    0:  'Speed limit (20km/h)',\n",
        "    1:  'Speed limit (30km/h)',\n",
        "    2:  'Speed limit (50km/h)',\n",
        "    3:  'Speed limit (60km/h)',\n",
        "    4:  'Speed limit (70km/h)',\n",
        "    5:  'Speed limit (80km/h)',\n",
        "    6:  'End of speed limit (80km/h)',\n",
        "    7:  'Speed limit (100km/h)',\n",
        "    8:  'Speed limit (120km/h)',\n",
        "    9:  'No passing',\n",
        "    10: 'No passing veh over 3.5 tons',\n",
        "    11: 'Right-of-way at intersection',\n",
        "    12: 'Priority road',\n",
        "    13: 'Yield',\n",
        "    14: 'Stop',\n",
        "    15: 'No vehicles',\n",
        "    16: 'Veh > 3.5 tons prohibited',\n",
        "    17: 'No entry',\n",
        "    18: 'General caution',\n",
        "    19: 'Dangerous curve left',\n",
        "    20: 'Dangerous curve right',\n",
        "    21: 'Double curve',\n",
        "    22: 'Bumpy road',\n",
        "    23: 'Slippery road',\n",
        "    24: 'Road narrows on the right',\n",
        "    25: 'Road work',\n",
        "    26: 'Traffic signals',\n",
        "    27: 'Pedestrians',\n",
        "    28: 'Children crossing',\n",
        "    29: 'Bicycles crossing',\n",
        "    30: 'Beware of ice/snow',\n",
        "    31: 'Wild animals crossing',\n",
        "    32: 'End speed + passing limits',\n",
        "    33: 'Turn right ahead',\n",
        "    34: 'Turn left ahead',\n",
        "    35: 'Ahead only',\n",
        "    36: 'Go straight or right',\n",
        "    37: 'Go straight or left',\n",
        "    38: 'Keep right',\n",
        "    39: 'Keep left',\n",
        "    40: 'Roundabout mandatory',\n",
        "    41: 'End of no passing',\n",
        "    42: 'End no passing veh > 3.5 tons'\n",
        "}\n",
        "```\n",
        "\n"
      ]
    },
    {
      "cell_type": "markdown",
      "id": "66c6f645",
      "metadata": {
        "id": "66c6f645"
      },
      "source": [
        "## Load Data\n",
        "Run the following command to get the data and unzip it, alternatively you can access the data [here](https://drive.google.com/file/d/1HwMV-Lt_sWoxc5v6igmTxTwomS3DR6cQ/view?usp=sharing)."
      ]
    },
    {
      "cell_type": "code",
      "source": [
        "from google.colab import drive\n",
        "drive.mount('/content/drive')"
      ],
      "metadata": {
        "colab": {
          "base_uri": "https://localhost:8080/"
        },
        "id": "wdeEODyzPz3B",
        "outputId": "e0ca61bf-5bd3-41d3-d4d3-81a3401783e4"
      },
      "id": "wdeEODyzPz3B",
      "execution_count": 1,
      "outputs": [
        {
          "output_type": "stream",
          "name": "stdout",
          "text": [
            "Mounted at /content/drive\n"
          ]
        }
      ]
    },
    {
      "cell_type": "code",
      "execution_count": null,
      "id": "ee08de6b",
      "metadata": {
        "id": "ee08de6b"
      },
      "outputs": [],
      "source": [
        "#https://drive.google.com/file/d/1HwMV-Lt_sWoxc5v6igmTxTwomS3DR6cQ/view?usp=sharing\n",
        "!pip install gdown\n",
        "!gdown --id 1HwMV-Lt_sWoxc5v6igmTxTwomS3DR6cQ\n",
        "!unzip Traffic_Signs.zip"
      ]
    },
    {
      "cell_type": "markdown",
      "id": "9bb9f30e",
      "metadata": {
        "id": "9bb9f30e"
      },
      "source": [
        "## Import Libraries"
      ]
    },
    {
      "cell_type": "code",
      "source": [
        "import numpy as np\n",
        "import pandas as pd\n",
        "import matplotlib.pyplot as plt\n",
        "import os\n",
        "import cv2\n",
        "import tensorflow as tf"
      ],
      "metadata": {
        "id": "60fkK8bAQw0f"
      },
      "id": "60fkK8bAQw0f",
      "execution_count": 31,
      "outputs": []
    },
    {
      "cell_type": "markdown",
      "id": "3aa9945d",
      "metadata": {
        "id": "3aa9945d"
      },
      "source": [
        "## Data Preprocessing\n",
        "In this section, preprocess the dataset by:\n",
        "- Loading the images from the file paths.\n",
        "- Resizing the images to a consistent size.\n",
        "- Normalizing pixel values.\n",
        "\n",
        "Add more if needed!"
      ]
    },
    {
      "cell_type": "code",
      "source": [
        "import zipfile\n",
        "zip_ref = zipfile.ZipFile('/content/drive/MyDrive/datasets/Traffic_Signs.zip', 'r')\n",
        "zip_ref.extractall('/content')\n",
        "zip_ref.close()"
      ],
      "metadata": {
        "id": "x18vYFk9QViX"
      },
      "id": "x18vYFk9QViX",
      "execution_count": 2,
      "outputs": []
    },
    {
      "cell_type": "code",
      "source": [
        "img_path = '/content/Traffic_Signs/Dataset/4/00004_00000_00002.png' #random\n",
        "img = cv2.imread(img_path)\n",
        "img"
      ],
      "metadata": {
        "colab": {
          "base_uri": "https://localhost:8080/",
          "height": 84
        },
        "id": "35srqxs0UBAB",
        "outputId": "14c3f868-d778-442f-d6cb-35917acbe3ee"
      },
      "id": "35srqxs0UBAB",
      "execution_count": 12,
      "outputs": [
        {
          "output_type": "execute_result",
          "data": {
            "text/plain": [
              "array([[[ 49,  94,  64],\n",
              "        [ 62,  99, 128],\n",
              "        [ 92, 144, 233],\n",
              "        ...,\n",
              "        [ 51, 123, 127],\n",
              "        [ 15,  95, 133],\n",
              "        [ 89, 175, 248]],\n",
              "\n",
              "       [[ 68, 128, 143],\n",
              "        [106, 173, 202],\n",
              "        [154, 218, 255],\n",
              "        ...,\n",
              "        [ 67, 139, 151],\n",
              "        [ 69, 161, 190],\n",
              "        [ 81, 183, 230]],\n",
              "\n",
              "       [[ 83, 158, 218],\n",
              "        [ 80, 159, 189],\n",
              "        [ 60, 149, 149],\n",
              "        ...,\n",
              "        [ 78, 144, 164],\n",
              "        [ 24,  92, 112],\n",
              "        [ 37, 111, 132]],\n",
              "\n",
              "       ...,\n",
              "\n",
              "       [[ 70, 132, 196],\n",
              "        [ 47, 122, 170],\n",
              "        [ 41,  85, 116],\n",
              "        ...,\n",
              "        [ 19,  53,  92],\n",
              "        [ 21,  36,  53],\n",
              "        [ 23,  33,  29]],\n",
              "\n",
              "       [[ 62, 118, 164],\n",
              "        [ 29,  92, 127],\n",
              "        [ 63, 112, 137],\n",
              "        ...,\n",
              "        [ 30,  61,  95],\n",
              "        [ 21,  41,  56],\n",
              "        [ 28,  45,  42]],\n",
              "\n",
              "       [[ 54, 104, 147],\n",
              "        [ 70, 121, 155],\n",
              "        [ 85, 139, 164],\n",
              "        ...,\n",
              "        [ 42,  69,  80],\n",
              "        [ 37,  63,  70],\n",
              "        [ 33,  57,  60]]], dtype=uint8)"
            ],
            "text/html": [
              "<style>\n",
              "      .ndarray_repr .ndarray_raw_data {\n",
              "        display: none;\n",
              "      }\n",
              "      .ndarray_repr.show_array .ndarray_raw_data {\n",
              "        display: block;\n",
              "      }\n",
              "      .ndarray_repr.show_array .ndarray_image_preview {\n",
              "        display: none;\n",
              "      }\n",
              "      </style>\n",
              "      <div id=\"id-b8664245-d149-493f-b4c4-9d1e3d903590\" class=\"ndarray_repr\"><pre>ndarray (44, 43, 3) <button style=\"padding: 0 2px;\">show data</button></pre><img src=\"data:image/png;base64,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\" class=\"ndarray_image_preview\" /><pre class=\"ndarray_raw_data\">array([[[ 49,  94,  64],\n",
              "        [ 62,  99, 128],\n",
              "        [ 92, 144, 233],\n",
              "        ...,\n",
              "        [ 51, 123, 127],\n",
              "        [ 15,  95, 133],\n",
              "        [ 89, 175, 248]],\n",
              "\n",
              "       [[ 68, 128, 143],\n",
              "        [106, 173, 202],\n",
              "        [154, 218, 255],\n",
              "        ...,\n",
              "        [ 67, 139, 151],\n",
              "        [ 69, 161, 190],\n",
              "        [ 81, 183, 230]],\n",
              "\n",
              "       [[ 83, 158, 218],\n",
              "        [ 80, 159, 189],\n",
              "        [ 60, 149, 149],\n",
              "        ...,\n",
              "        [ 78, 144, 164],\n",
              "        [ 24,  92, 112],\n",
              "        [ 37, 111, 132]],\n",
              "\n",
              "       ...,\n",
              "\n",
              "       [[ 70, 132, 196],\n",
              "        [ 47, 122, 170],\n",
              "        [ 41,  85, 116],\n",
              "        ...,\n",
              "        [ 19,  53,  92],\n",
              "        [ 21,  36,  53],\n",
              "        [ 23,  33,  29]],\n",
              "\n",
              "       [[ 62, 118, 164],\n",
              "        [ 29,  92, 127],\n",
              "        [ 63, 112, 137],\n",
              "        ...,\n",
              "        [ 30,  61,  95],\n",
              "        [ 21,  41,  56],\n",
              "        [ 28,  45,  42]],\n",
              "\n",
              "       [[ 54, 104, 147],\n",
              "        [ 70, 121, 155],\n",
              "        [ 85, 139, 164],\n",
              "        ...,\n",
              "        [ 42,  69,  80],\n",
              "        [ 37,  63,  70],\n",
              "        [ 33,  57,  60]]], dtype=uint8)</pre></div><script>\n",
              "      (() => {\n",
              "      const titles = ['show data', 'hide data'];\n",
              "      let index = 0\n",
              "      document.querySelector('#id-b8664245-d149-493f-b4c4-9d1e3d903590 button').onclick = (e) => {\n",
              "        document.querySelector('#id-b8664245-d149-493f-b4c4-9d1e3d903590').classList.toggle('show_array');\n",
              "        index = (++index) % 2;\n",
              "        document.querySelector('#id-b8664245-d149-493f-b4c4-9d1e3d903590 button').textContent = titles[index];\n",
              "        e.preventDefault();\n",
              "        e.stopPropagation();\n",
              "      }\n",
              "      })();\n",
              "    </script>"
            ]
          },
          "metadata": {},
          "execution_count": 12
        }
      ]
    },
    {
      "cell_type": "markdown",
      "id": "541f3c2b",
      "metadata": {
        "id": "541f3c2b"
      },
      "source": [
        "## Data Splitting\n",
        "In this section, we will split our dataset into three parts:\n",
        "\n",
        "* Training set (70%).\n",
        "* Validation set (15%).\n",
        "* Test set (15%)."
      ]
    },
    {
      "cell_type": "code",
      "execution_count": 4,
      "id": "cd2cca39",
      "metadata": {
        "id": "cd2cca39",
        "colab": {
          "base_uri": "https://localhost:8080/"
        },
        "outputId": "dbff625b-21ed-4c14-ac6c-7d9bdc9f87b0"
      },
      "outputs": [
        {
          "output_type": "stream",
          "name": "stdout",
          "text": [
            "Collecting split-folders\n",
            "  Downloading split_folders-0.5.1-py3-none-any.whl.metadata (6.2 kB)\n",
            "Downloading split_folders-0.5.1-py3-none-any.whl (8.4 kB)\n",
            "Installing collected packages: split-folders\n",
            "Successfully installed split-folders-0.5.1\n"
          ]
        }
      ],
      "source": [
        "!pip install split-folders"
      ]
    },
    {
      "cell_type": "code",
      "source": [
        "import splitfolders\n",
        "splitfolders.ratio('/content/Traffic_Signs/Dataset', output= '/content/Traffic_Signs/Dataset/output', seed= 42, ratio= (0.70, 0.15, 0.15))"
      ],
      "metadata": {
        "colab": {
          "base_uri": "https://localhost:8080/"
        },
        "id": "GsFvvmXFSW5t",
        "outputId": "b529b5a3-6076-44d4-e189-50d6ca22e622"
      },
      "id": "GsFvvmXFSW5t",
      "execution_count": 6,
      "outputs": [
        {
          "output_type": "stream",
          "name": "stderr",
          "text": [
            "Copying files: 39209 files [00:09, 4148.08 files/s]\n"
          ]
        }
      ]
    },
    {
      "cell_type": "code",
      "source": [
        "train_ds = cv2.imread('/content/Traffic_Signs/Dataset/output/train')\n",
        "validation_ds = cv2.imread('/content/Traffic_Signs/Dataset/output/val')"
      ],
      "metadata": {
        "id": "vutQ4pLGYFTz"
      },
      "id": "vutQ4pLGYFTz",
      "execution_count": 39,
      "outputs": []
    },
    {
      "cell_type": "code",
      "source": [
        "def preprocess(image, label):\n",
        "  resized_image = tf.image.resize(image, (128, 128))\n",
        "  return resized_image, label\n",
        "\n",
        "train_ds = train_ds.map(preprocess)\n",
        "validation_ds = validation_ds.map(preprocess)"
      ],
      "metadata": {
        "colab": {
          "base_uri": "https://localhost:8080/",
          "height": 198
        },
        "id": "XlEnhn8bW2DW",
        "outputId": "334665a1-9a1e-429e-b56d-4fce9e376359"
      },
      "id": "XlEnhn8bW2DW",
      "execution_count": 40,
      "outputs": [
        {
          "output_type": "error",
          "ename": "AttributeError",
          "evalue": "'NoneType' object has no attribute 'map'",
          "traceback": [
            "\u001b[0;31m---------------------------------------------------------------------------\u001b[0m",
            "\u001b[0;31mAttributeError\u001b[0m                            Traceback (most recent call last)",
            "\u001b[0;32m<ipython-input-40-5bb49155e576>\u001b[0m in \u001b[0;36m<cell line: 5>\u001b[0;34m()\u001b[0m\n\u001b[1;32m      3\u001b[0m   \u001b[0;32mreturn\u001b[0m \u001b[0mresized_image\u001b[0m\u001b[0;34m,\u001b[0m \u001b[0mlabel\u001b[0m\u001b[0;34m\u001b[0m\u001b[0;34m\u001b[0m\u001b[0m\n\u001b[1;32m      4\u001b[0m \u001b[0;34m\u001b[0m\u001b[0m\n\u001b[0;32m----> 5\u001b[0;31m \u001b[0mtrain_ds\u001b[0m \u001b[0;34m=\u001b[0m \u001b[0mtrain_ds\u001b[0m\u001b[0;34m.\u001b[0m\u001b[0mmap\u001b[0m\u001b[0;34m(\u001b[0m\u001b[0mpreprocess\u001b[0m\u001b[0;34m)\u001b[0m\u001b[0;34m\u001b[0m\u001b[0;34m\u001b[0m\u001b[0m\n\u001b[0m\u001b[1;32m      6\u001b[0m \u001b[0mvalidation_ds\u001b[0m \u001b[0;34m=\u001b[0m \u001b[0mvalidation_ds\u001b[0m\u001b[0;34m.\u001b[0m\u001b[0mmap\u001b[0m\u001b[0;34m(\u001b[0m\u001b[0mpreprocess\u001b[0m\u001b[0;34m)\u001b[0m\u001b[0;34m\u001b[0m\u001b[0;34m\u001b[0m\u001b[0m\n",
            "\u001b[0;31mAttributeError\u001b[0m: 'NoneType' object has no attribute 'map'"
          ]
        }
      ]
    },
    {
      "cell_type": "code",
      "source": [
        "normalization_layer = tf.keras.layers.Rescaling(1./255)\n",
        "normalized_train_ds = train_ds.map(lambda x, y: (normalization_layer(x), y))\n",
        "normalized_validation_ds = validation_ds.map(lambda x, y: (normalization_layer(x), y))"
      ],
      "metadata": {
        "colab": {
          "base_uri": "https://localhost:8080/",
          "height": 180
        },
        "id": "gV7DXhFqXFhQ",
        "outputId": "323905dc-f02d-4931-f0e8-8504f7f79add"
      },
      "id": "gV7DXhFqXFhQ",
      "execution_count": 35,
      "outputs": [
        {
          "output_type": "error",
          "ename": "AttributeError",
          "evalue": "'NoneType' object has no attribute 'map'",
          "traceback": [
            "\u001b[0;31m---------------------------------------------------------------------------\u001b[0m",
            "\u001b[0;31mAttributeError\u001b[0m                            Traceback (most recent call last)",
            "\u001b[0;32m<ipython-input-35-dd7a1d330ba2>\u001b[0m in \u001b[0;36m<cell line: 2>\u001b[0;34m()\u001b[0m\n\u001b[1;32m      1\u001b[0m \u001b[0mnormalization_layer\u001b[0m \u001b[0;34m=\u001b[0m \u001b[0mtf\u001b[0m\u001b[0;34m.\u001b[0m\u001b[0mkeras\u001b[0m\u001b[0;34m.\u001b[0m\u001b[0mlayers\u001b[0m\u001b[0;34m.\u001b[0m\u001b[0mRescaling\u001b[0m\u001b[0;34m(\u001b[0m\u001b[0;36m1.\u001b[0m\u001b[0;34m/\u001b[0m\u001b[0;36m255\u001b[0m\u001b[0;34m)\u001b[0m\u001b[0;34m\u001b[0m\u001b[0;34m\u001b[0m\u001b[0m\n\u001b[0;32m----> 2\u001b[0;31m \u001b[0mnormalized_train_ds\u001b[0m \u001b[0;34m=\u001b[0m \u001b[0mtrain_ds\u001b[0m\u001b[0;34m.\u001b[0m\u001b[0mmap\u001b[0m\u001b[0;34m(\u001b[0m\u001b[0;32mlambda\u001b[0m \u001b[0mx\u001b[0m\u001b[0;34m,\u001b[0m \u001b[0my\u001b[0m\u001b[0;34m:\u001b[0m \u001b[0;34m(\u001b[0m\u001b[0mnormalization_layer\u001b[0m\u001b[0;34m(\u001b[0m\u001b[0mx\u001b[0m\u001b[0;34m)\u001b[0m\u001b[0;34m,\u001b[0m \u001b[0my\u001b[0m\u001b[0;34m)\u001b[0m\u001b[0;34m)\u001b[0m\u001b[0;34m\u001b[0m\u001b[0;34m\u001b[0m\u001b[0m\n\u001b[0m\u001b[1;32m      3\u001b[0m \u001b[0mnormalized_validation_ds\u001b[0m \u001b[0;34m=\u001b[0m \u001b[0mvalidation_ds\u001b[0m\u001b[0;34m.\u001b[0m\u001b[0mmap\u001b[0m\u001b[0;34m(\u001b[0m\u001b[0;32mlambda\u001b[0m \u001b[0mx\u001b[0m\u001b[0;34m,\u001b[0m \u001b[0my\u001b[0m\u001b[0;34m:\u001b[0m \u001b[0;34m(\u001b[0m\u001b[0mnormalization_layer\u001b[0m\u001b[0;34m(\u001b[0m\u001b[0mx\u001b[0m\u001b[0;34m)\u001b[0m\u001b[0;34m,\u001b[0m \u001b[0my\u001b[0m\u001b[0;34m)\u001b[0m\u001b[0;34m)\u001b[0m\u001b[0;34m\u001b[0m\u001b[0;34m\u001b[0m\u001b[0m\n",
            "\u001b[0;31mAttributeError\u001b[0m: 'NoneType' object has no attribute 'map'"
          ]
        }
      ]
    },
    {
      "cell_type": "markdown",
      "id": "83974596",
      "metadata": {
        "id": "83974596"
      },
      "source": [
        "## Building the CNN Model\n",
        "In this section, define the architecture of the CNN model. The architecture may consist of:\n",
        "- Convolutional layers with max-pooling\n",
        "- Dropout layers\n",
        "- Flatten layer\n",
        "- Dense layers\n",
        "- Output layer\n",
        "\n",
        "Add and remove any of these as needed!"
      ]
    },
    {
      "cell_type": "code",
      "source": [
        "from tensorflow.keras.models import Sequential\n",
        "from tensorflow.keras import Input, Model\n",
        "from tensorflow.keras.layers import Dense, Dropout, Activation\n",
        "from sklearn.model_selection import train_test_split\n",
        "from keras.layers import Dense,Conv2D,MaxPooling2D,Flatten,BatchNormalization,Dropout"
      ],
      "metadata": {
        "id": "UCu8pID8WYZ4"
      },
      "id": "UCu8pID8WYZ4",
      "execution_count": 25,
      "outputs": []
    },
    {
      "cell_type": "code",
      "execution_count": 26,
      "id": "977da65a",
      "metadata": {
        "id": "977da65a",
        "colab": {
          "base_uri": "https://localhost:8080/"
        },
        "outputId": "b3fcecb2-61dd-4587-dcc4-3709d8496dfb"
      },
      "outputs": [
        {
          "output_type": "stream",
          "name": "stderr",
          "text": [
            "/usr/local/lib/python3.10/dist-packages/keras/src/layers/convolutional/base_conv.py:107: UserWarning: Do not pass an `input_shape`/`input_dim` argument to a layer. When using Sequential models, prefer using an `Input(shape)` object as the first layer in the model instead.\n",
            "  super().__init__(activity_regularizer=activity_regularizer, **kwargs)\n"
          ]
        }
      ],
      "source": [
        "model = Sequential()\n",
        "\n",
        "model.add(Conv2D(32,kernel_size=(3,3),padding='valid',activation='relu',input_shape=(256,256,3)))\n",
        "model.add(BatchNormalization())\n",
        "model.add(MaxPooling2D(pool_size=(2,2),strides=2,padding='valid'))\n",
        "\n",
        "model.add(Conv2D(64,kernel_size=(3,3),padding='valid',activation='relu'))\n",
        "model.add(BatchNormalization())\n",
        "model.add(MaxPooling2D(pool_size=(2,2),strides=2,padding='valid'))\n",
        "\n",
        "model.add(Conv2D(128,kernel_size=(3,3),padding='valid',activation='relu'))\n",
        "model.add(BatchNormalization())\n",
        "model.add(MaxPooling2D(pool_size=(2,2),strides=2,padding='valid'))\n",
        "\n",
        "model.add(Flatten())\n",
        "\n",
        "model.add(Dense(128,activation='relu'))\n",
        "model.add(Dropout(0.1))\n",
        "model.add(Dense(64,activation='relu'))\n",
        "model.add(Dropout(0.1))\n",
        "model.add(Dense(1,activation='sigmoid'))"
      ]
    },
    {
      "cell_type": "code",
      "source": [
        "model.summary()"
      ],
      "metadata": {
        "colab": {
          "base_uri": "https://localhost:8080/",
          "height": 677
        },
        "id": "m_F94ts4WxKe",
        "outputId": "3f4f97d3-cb1e-4b9a-8b07-6404b212139c"
      },
      "id": "m_F94ts4WxKe",
      "execution_count": 27,
      "outputs": [
        {
          "output_type": "display_data",
          "data": {
            "text/plain": [
              "\u001b[1mModel: \"sequential_1\"\u001b[0m\n"
            ],
            "text/html": [
              "<pre style=\"white-space:pre;overflow-x:auto;line-height:normal;font-family:Menlo,'DejaVu Sans Mono',consolas,'Courier New',monospace\"><span style=\"font-weight: bold\">Model: \"sequential_1\"</span>\n",
              "</pre>\n"
            ]
          },
          "metadata": {}
        },
        {
          "output_type": "display_data",
          "data": {
            "text/plain": [
              "┏━━━━━━━━━━━━━━━━━━━━━━━━━━━━━━━━━━━━━━┳━━━━━━━━━━━━━━━━━━━━━━━━━━━━━┳━━━━━━━━━━━━━━━━━┓\n",
              "┃\u001b[1m \u001b[0m\u001b[1mLayer (type)                        \u001b[0m\u001b[1m \u001b[0m┃\u001b[1m \u001b[0m\u001b[1mOutput Shape               \u001b[0m\u001b[1m \u001b[0m┃\u001b[1m \u001b[0m\u001b[1m        Param #\u001b[0m\u001b[1m \u001b[0m┃\n",
              "┡━━━━━━━━━━━━━━━━━━━━━━━━━━━━━━━━━━━━━━╇━━━━━━━━━━━━━━━━━━━━━━━━━━━━━╇━━━━━━━━━━━━━━━━━┩\n",
              "│ conv2d (\u001b[38;5;33mConv2D\u001b[0m)                      │ (\u001b[38;5;45mNone\u001b[0m, \u001b[38;5;34m254\u001b[0m, \u001b[38;5;34m254\u001b[0m, \u001b[38;5;34m32\u001b[0m)        │             \u001b[38;5;34m896\u001b[0m │\n",
              "├──────────────────────────────────────┼─────────────────────────────┼─────────────────┤\n",
              "│ batch_normalization                  │ (\u001b[38;5;45mNone\u001b[0m, \u001b[38;5;34m254\u001b[0m, \u001b[38;5;34m254\u001b[0m, \u001b[38;5;34m32\u001b[0m)        │             \u001b[38;5;34m128\u001b[0m │\n",
              "│ (\u001b[38;5;33mBatchNormalization\u001b[0m)                 │                             │                 │\n",
              "├──────────────────────────────────────┼─────────────────────────────┼─────────────────┤\n",
              "│ max_pooling2d (\u001b[38;5;33mMaxPooling2D\u001b[0m)         │ (\u001b[38;5;45mNone\u001b[0m, \u001b[38;5;34m127\u001b[0m, \u001b[38;5;34m127\u001b[0m, \u001b[38;5;34m32\u001b[0m)        │               \u001b[38;5;34m0\u001b[0m │\n",
              "├──────────────────────────────────────┼─────────────────────────────┼─────────────────┤\n",
              "│ conv2d_1 (\u001b[38;5;33mConv2D\u001b[0m)                    │ (\u001b[38;5;45mNone\u001b[0m, \u001b[38;5;34m125\u001b[0m, \u001b[38;5;34m125\u001b[0m, \u001b[38;5;34m64\u001b[0m)        │          \u001b[38;5;34m18,496\u001b[0m │\n",
              "├──────────────────────────────────────┼─────────────────────────────┼─────────────────┤\n",
              "│ batch_normalization_1                │ (\u001b[38;5;45mNone\u001b[0m, \u001b[38;5;34m125\u001b[0m, \u001b[38;5;34m125\u001b[0m, \u001b[38;5;34m64\u001b[0m)        │             \u001b[38;5;34m256\u001b[0m │\n",
              "│ (\u001b[38;5;33mBatchNormalization\u001b[0m)                 │                             │                 │\n",
              "├──────────────────────────────────────┼─────────────────────────────┼─────────────────┤\n",
              "│ max_pooling2d_1 (\u001b[38;5;33mMaxPooling2D\u001b[0m)       │ (\u001b[38;5;45mNone\u001b[0m, \u001b[38;5;34m62\u001b[0m, \u001b[38;5;34m62\u001b[0m, \u001b[38;5;34m64\u001b[0m)          │               \u001b[38;5;34m0\u001b[0m │\n",
              "├──────────────────────────────────────┼─────────────────────────────┼─────────────────┤\n",
              "│ conv2d_2 (\u001b[38;5;33mConv2D\u001b[0m)                    │ (\u001b[38;5;45mNone\u001b[0m, \u001b[38;5;34m60\u001b[0m, \u001b[38;5;34m60\u001b[0m, \u001b[38;5;34m128\u001b[0m)         │          \u001b[38;5;34m73,856\u001b[0m │\n",
              "├──────────────────────────────────────┼─────────────────────────────┼─────────────────┤\n",
              "│ batch_normalization_2                │ (\u001b[38;5;45mNone\u001b[0m, \u001b[38;5;34m60\u001b[0m, \u001b[38;5;34m60\u001b[0m, \u001b[38;5;34m128\u001b[0m)         │             \u001b[38;5;34m512\u001b[0m │\n",
              "│ (\u001b[38;5;33mBatchNormalization\u001b[0m)                 │                             │                 │\n",
              "├──────────────────────────────────────┼─────────────────────────────┼─────────────────┤\n",
              "│ max_pooling2d_2 (\u001b[38;5;33mMaxPooling2D\u001b[0m)       │ (\u001b[38;5;45mNone\u001b[0m, \u001b[38;5;34m30\u001b[0m, \u001b[38;5;34m30\u001b[0m, \u001b[38;5;34m128\u001b[0m)         │               \u001b[38;5;34m0\u001b[0m │\n",
              "├──────────────────────────────────────┼─────────────────────────────┼─────────────────┤\n",
              "│ flatten (\u001b[38;5;33mFlatten\u001b[0m)                    │ (\u001b[38;5;45mNone\u001b[0m, \u001b[38;5;34m115200\u001b[0m)              │               \u001b[38;5;34m0\u001b[0m │\n",
              "├──────────────────────────────────────┼─────────────────────────────┼─────────────────┤\n",
              "│ dense (\u001b[38;5;33mDense\u001b[0m)                        │ (\u001b[38;5;45mNone\u001b[0m, \u001b[38;5;34m128\u001b[0m)                 │      \u001b[38;5;34m14,745,728\u001b[0m │\n",
              "├──────────────────────────────────────┼─────────────────────────────┼─────────────────┤\n",
              "│ dropout (\u001b[38;5;33mDropout\u001b[0m)                    │ (\u001b[38;5;45mNone\u001b[0m, \u001b[38;5;34m128\u001b[0m)                 │               \u001b[38;5;34m0\u001b[0m │\n",
              "├──────────────────────────────────────┼─────────────────────────────┼─────────────────┤\n",
              "│ dense_1 (\u001b[38;5;33mDense\u001b[0m)                      │ (\u001b[38;5;45mNone\u001b[0m, \u001b[38;5;34m64\u001b[0m)                  │           \u001b[38;5;34m8,256\u001b[0m │\n",
              "├──────────────────────────────────────┼─────────────────────────────┼─────────────────┤\n",
              "│ dropout_1 (\u001b[38;5;33mDropout\u001b[0m)                  │ (\u001b[38;5;45mNone\u001b[0m, \u001b[38;5;34m64\u001b[0m)                  │               \u001b[38;5;34m0\u001b[0m │\n",
              "├──────────────────────────────────────┼─────────────────────────────┼─────────────────┤\n",
              "│ dense_2 (\u001b[38;5;33mDense\u001b[0m)                      │ (\u001b[38;5;45mNone\u001b[0m, \u001b[38;5;34m1\u001b[0m)                   │              \u001b[38;5;34m65\u001b[0m │\n",
              "└──────────────────────────────────────┴─────────────────────────────┴─────────────────┘\n"
            ],
            "text/html": [
              "<pre style=\"white-space:pre;overflow-x:auto;line-height:normal;font-family:Menlo,'DejaVu Sans Mono',consolas,'Courier New',monospace\">┏━━━━━━━━━━━━━━━━━━━━━━━━━━━━━━━━━━━━━━┳━━━━━━━━━━━━━━━━━━━━━━━━━━━━━┳━━━━━━━━━━━━━━━━━┓\n",
              "┃<span style=\"font-weight: bold\"> Layer (type)                         </span>┃<span style=\"font-weight: bold\"> Output Shape                </span>┃<span style=\"font-weight: bold\">         Param # </span>┃\n",
              "┡━━━━━━━━━━━━━━━━━━━━━━━━━━━━━━━━━━━━━━╇━━━━━━━━━━━━━━━━━━━━━━━━━━━━━╇━━━━━━━━━━━━━━━━━┩\n",
              "│ conv2d (<span style=\"color: #0087ff; text-decoration-color: #0087ff\">Conv2D</span>)                      │ (<span style=\"color: #00d7ff; text-decoration-color: #00d7ff\">None</span>, <span style=\"color: #00af00; text-decoration-color: #00af00\">254</span>, <span style=\"color: #00af00; text-decoration-color: #00af00\">254</span>, <span style=\"color: #00af00; text-decoration-color: #00af00\">32</span>)        │             <span style=\"color: #00af00; text-decoration-color: #00af00\">896</span> │\n",
              "├──────────────────────────────────────┼─────────────────────────────┼─────────────────┤\n",
              "│ batch_normalization                  │ (<span style=\"color: #00d7ff; text-decoration-color: #00d7ff\">None</span>, <span style=\"color: #00af00; text-decoration-color: #00af00\">254</span>, <span style=\"color: #00af00; text-decoration-color: #00af00\">254</span>, <span style=\"color: #00af00; text-decoration-color: #00af00\">32</span>)        │             <span style=\"color: #00af00; text-decoration-color: #00af00\">128</span> │\n",
              "│ (<span style=\"color: #0087ff; text-decoration-color: #0087ff\">BatchNormalization</span>)                 │                             │                 │\n",
              "├──────────────────────────────────────┼─────────────────────────────┼─────────────────┤\n",
              "│ max_pooling2d (<span style=\"color: #0087ff; text-decoration-color: #0087ff\">MaxPooling2D</span>)         │ (<span style=\"color: #00d7ff; text-decoration-color: #00d7ff\">None</span>, <span style=\"color: #00af00; text-decoration-color: #00af00\">127</span>, <span style=\"color: #00af00; text-decoration-color: #00af00\">127</span>, <span style=\"color: #00af00; text-decoration-color: #00af00\">32</span>)        │               <span style=\"color: #00af00; text-decoration-color: #00af00\">0</span> │\n",
              "├──────────────────────────────────────┼─────────────────────────────┼─────────────────┤\n",
              "│ conv2d_1 (<span style=\"color: #0087ff; text-decoration-color: #0087ff\">Conv2D</span>)                    │ (<span style=\"color: #00d7ff; text-decoration-color: #00d7ff\">None</span>, <span style=\"color: #00af00; text-decoration-color: #00af00\">125</span>, <span style=\"color: #00af00; text-decoration-color: #00af00\">125</span>, <span style=\"color: #00af00; text-decoration-color: #00af00\">64</span>)        │          <span style=\"color: #00af00; text-decoration-color: #00af00\">18,496</span> │\n",
              "├──────────────────────────────────────┼─────────────────────────────┼─────────────────┤\n",
              "│ batch_normalization_1                │ (<span style=\"color: #00d7ff; text-decoration-color: #00d7ff\">None</span>, <span style=\"color: #00af00; text-decoration-color: #00af00\">125</span>, <span style=\"color: #00af00; text-decoration-color: #00af00\">125</span>, <span style=\"color: #00af00; text-decoration-color: #00af00\">64</span>)        │             <span style=\"color: #00af00; text-decoration-color: #00af00\">256</span> │\n",
              "│ (<span style=\"color: #0087ff; text-decoration-color: #0087ff\">BatchNormalization</span>)                 │                             │                 │\n",
              "├──────────────────────────────────────┼─────────────────────────────┼─────────────────┤\n",
              "│ max_pooling2d_1 (<span style=\"color: #0087ff; text-decoration-color: #0087ff\">MaxPooling2D</span>)       │ (<span style=\"color: #00d7ff; text-decoration-color: #00d7ff\">None</span>, <span style=\"color: #00af00; text-decoration-color: #00af00\">62</span>, <span style=\"color: #00af00; text-decoration-color: #00af00\">62</span>, <span style=\"color: #00af00; text-decoration-color: #00af00\">64</span>)          │               <span style=\"color: #00af00; text-decoration-color: #00af00\">0</span> │\n",
              "├──────────────────────────────────────┼─────────────────────────────┼─────────────────┤\n",
              "│ conv2d_2 (<span style=\"color: #0087ff; text-decoration-color: #0087ff\">Conv2D</span>)                    │ (<span style=\"color: #00d7ff; text-decoration-color: #00d7ff\">None</span>, <span style=\"color: #00af00; text-decoration-color: #00af00\">60</span>, <span style=\"color: #00af00; text-decoration-color: #00af00\">60</span>, <span style=\"color: #00af00; text-decoration-color: #00af00\">128</span>)         │          <span style=\"color: #00af00; text-decoration-color: #00af00\">73,856</span> │\n",
              "├──────────────────────────────────────┼─────────────────────────────┼─────────────────┤\n",
              "│ batch_normalization_2                │ (<span style=\"color: #00d7ff; text-decoration-color: #00d7ff\">None</span>, <span style=\"color: #00af00; text-decoration-color: #00af00\">60</span>, <span style=\"color: #00af00; text-decoration-color: #00af00\">60</span>, <span style=\"color: #00af00; text-decoration-color: #00af00\">128</span>)         │             <span style=\"color: #00af00; text-decoration-color: #00af00\">512</span> │\n",
              "│ (<span style=\"color: #0087ff; text-decoration-color: #0087ff\">BatchNormalization</span>)                 │                             │                 │\n",
              "├──────────────────────────────────────┼─────────────────────────────┼─────────────────┤\n",
              "│ max_pooling2d_2 (<span style=\"color: #0087ff; text-decoration-color: #0087ff\">MaxPooling2D</span>)       │ (<span style=\"color: #00d7ff; text-decoration-color: #00d7ff\">None</span>, <span style=\"color: #00af00; text-decoration-color: #00af00\">30</span>, <span style=\"color: #00af00; text-decoration-color: #00af00\">30</span>, <span style=\"color: #00af00; text-decoration-color: #00af00\">128</span>)         │               <span style=\"color: #00af00; text-decoration-color: #00af00\">0</span> │\n",
              "├──────────────────────────────────────┼─────────────────────────────┼─────────────────┤\n",
              "│ flatten (<span style=\"color: #0087ff; text-decoration-color: #0087ff\">Flatten</span>)                    │ (<span style=\"color: #00d7ff; text-decoration-color: #00d7ff\">None</span>, <span style=\"color: #00af00; text-decoration-color: #00af00\">115200</span>)              │               <span style=\"color: #00af00; text-decoration-color: #00af00\">0</span> │\n",
              "├──────────────────────────────────────┼─────────────────────────────┼─────────────────┤\n",
              "│ dense (<span style=\"color: #0087ff; text-decoration-color: #0087ff\">Dense</span>)                        │ (<span style=\"color: #00d7ff; text-decoration-color: #00d7ff\">None</span>, <span style=\"color: #00af00; text-decoration-color: #00af00\">128</span>)                 │      <span style=\"color: #00af00; text-decoration-color: #00af00\">14,745,728</span> │\n",
              "├──────────────────────────────────────┼─────────────────────────────┼─────────────────┤\n",
              "│ dropout (<span style=\"color: #0087ff; text-decoration-color: #0087ff\">Dropout</span>)                    │ (<span style=\"color: #00d7ff; text-decoration-color: #00d7ff\">None</span>, <span style=\"color: #00af00; text-decoration-color: #00af00\">128</span>)                 │               <span style=\"color: #00af00; text-decoration-color: #00af00\">0</span> │\n",
              "├──────────────────────────────────────┼─────────────────────────────┼─────────────────┤\n",
              "│ dense_1 (<span style=\"color: #0087ff; text-decoration-color: #0087ff\">Dense</span>)                      │ (<span style=\"color: #00d7ff; text-decoration-color: #00d7ff\">None</span>, <span style=\"color: #00af00; text-decoration-color: #00af00\">64</span>)                  │           <span style=\"color: #00af00; text-decoration-color: #00af00\">8,256</span> │\n",
              "├──────────────────────────────────────┼─────────────────────────────┼─────────────────┤\n",
              "│ dropout_1 (<span style=\"color: #0087ff; text-decoration-color: #0087ff\">Dropout</span>)                  │ (<span style=\"color: #00d7ff; text-decoration-color: #00d7ff\">None</span>, <span style=\"color: #00af00; text-decoration-color: #00af00\">64</span>)                  │               <span style=\"color: #00af00; text-decoration-color: #00af00\">0</span> │\n",
              "├──────────────────────────────────────┼─────────────────────────────┼─────────────────┤\n",
              "│ dense_2 (<span style=\"color: #0087ff; text-decoration-color: #0087ff\">Dense</span>)                      │ (<span style=\"color: #00d7ff; text-decoration-color: #00d7ff\">None</span>, <span style=\"color: #00af00; text-decoration-color: #00af00\">1</span>)                   │              <span style=\"color: #00af00; text-decoration-color: #00af00\">65</span> │\n",
              "└──────────────────────────────────────┴─────────────────────────────┴─────────────────┘\n",
              "</pre>\n"
            ]
          },
          "metadata": {}
        },
        {
          "output_type": "display_data",
          "data": {
            "text/plain": [
              "\u001b[1m Total params: \u001b[0m\u001b[38;5;34m14,848,193\u001b[0m (56.64 MB)\n"
            ],
            "text/html": [
              "<pre style=\"white-space:pre;overflow-x:auto;line-height:normal;font-family:Menlo,'DejaVu Sans Mono',consolas,'Courier New',monospace\"><span style=\"font-weight: bold\"> Total params: </span><span style=\"color: #00af00; text-decoration-color: #00af00\">14,848,193</span> (56.64 MB)\n",
              "</pre>\n"
            ]
          },
          "metadata": {}
        },
        {
          "output_type": "display_data",
          "data": {
            "text/plain": [
              "\u001b[1m Trainable params: \u001b[0m\u001b[38;5;34m14,847,745\u001b[0m (56.64 MB)\n"
            ],
            "text/html": [
              "<pre style=\"white-space:pre;overflow-x:auto;line-height:normal;font-family:Menlo,'DejaVu Sans Mono',consolas,'Courier New',monospace\"><span style=\"font-weight: bold\"> Trainable params: </span><span style=\"color: #00af00; text-decoration-color: #00af00\">14,847,745</span> (56.64 MB)\n",
              "</pre>\n"
            ]
          },
          "metadata": {}
        },
        {
          "output_type": "display_data",
          "data": {
            "text/plain": [
              "\u001b[1m Non-trainable params: \u001b[0m\u001b[38;5;34m448\u001b[0m (1.75 KB)\n"
            ],
            "text/html": [
              "<pre style=\"white-space:pre;overflow-x:auto;line-height:normal;font-family:Menlo,'DejaVu Sans Mono',consolas,'Courier New',monospace\"><span style=\"font-weight: bold\"> Non-trainable params: </span><span style=\"color: #00af00; text-decoration-color: #00af00\">448</span> (1.75 KB)\n",
              "</pre>\n"
            ]
          },
          "metadata": {}
        }
      ]
    },
    {
      "cell_type": "markdown",
      "id": "fe1c0940",
      "metadata": {
        "id": "fe1c0940"
      },
      "source": [
        "## Training the Model\n",
        "Train the CNN model using the training data and validate it on the validation set."
      ]
    },
    {
      "cell_type": "code",
      "execution_count": 28,
      "id": "ce31faf9",
      "metadata": {
        "id": "ce31faf9",
        "colab": {
          "base_uri": "https://localhost:8080/",
          "height": 144
        },
        "outputId": "414fd78c-3b91-4e16-924c-d932a3337f17"
      },
      "outputs": [
        {
          "output_type": "error",
          "ename": "NameError",
          "evalue": "name 'X_train' is not defined",
          "traceback": [
            "\u001b[0;31m---------------------------------------------------------------------------\u001b[0m",
            "\u001b[0;31mNameError\u001b[0m                                 Traceback (most recent call last)",
            "\u001b[0;32m<ipython-input-28-71b7af386beb>\u001b[0m in \u001b[0;36m<cell line: 1>\u001b[0;34m()\u001b[0m\n\u001b[0;32m----> 1\u001b[0;31m \u001b[0mhistory\u001b[0m \u001b[0;34m=\u001b[0m \u001b[0mmodel\u001b[0m\u001b[0;34m.\u001b[0m\u001b[0mfit\u001b[0m\u001b[0;34m(\u001b[0m\u001b[0mX_train\u001b[0m\u001b[0;34m,\u001b[0m \u001b[0my_train\u001b[0m\u001b[0;34m,\u001b[0m \u001b[0mepochs\u001b[0m\u001b[0;34m=\u001b[0m\u001b[0;36m10\u001b[0m\u001b[0;34m,\u001b[0m \u001b[0mbatch_size\u001b[0m\u001b[0;34m=\u001b[0m\u001b[0;36m24\u001b[0m\u001b[0;34m)\u001b[0m\u001b[0;34m\u001b[0m\u001b[0;34m\u001b[0m\u001b[0m\n\u001b[0m",
            "\u001b[0;31mNameError\u001b[0m: name 'X_train' is not defined"
          ]
        }
      ],
      "source": [
        "history = model.fit(X_train, y_train, epochs=10, batch_size=24)"
      ]
    },
    {
      "cell_type": "markdown",
      "id": "25ad1b22",
      "metadata": {
        "id": "25ad1b22"
      },
      "source": [
        "## Evaluate the Model\n",
        "Evaluate the performance of the model on the test set."
      ]
    },
    {
      "cell_type": "code",
      "execution_count": null,
      "id": "eb9ed70f",
      "metadata": {
        "id": "eb9ed70f"
      },
      "outputs": [],
      "source": [
        "model.evaluate(X_test, y_test, batch_size=24)"
      ]
    },
    {
      "cell_type": "markdown",
      "id": "a37fca33",
      "metadata": {
        "id": "a37fca33"
      },
      "source": [
        "## Make Predictions\n",
        "Use the trained model to make predictions on new or unseen traffic sign images."
      ]
    },
    {
      "cell_type": "markdown",
      "id": "f1ab3608",
      "metadata": {
        "id": "f1ab3608"
      },
      "source": [
        "if you need new, we prepared some data for you [here](https://drive.google.com/file/d/1S_vpQntND9839x8kJpegaEgtSIA4JxHO/view?usp=sharing), or you can simply run the following command to get the data and unzip it.\n",
        "\n",
        "<small>Note: please note that the file contain MetaData to tell you what each image contains <b>THIS IS JUST FOR YOU TO MAKE SURE</b></smmall>"
      ]
    },
    {
      "cell_type": "code",
      "execution_count": null,
      "id": "a7a5c981",
      "metadata": {
        "id": "a7a5c981"
      },
      "outputs": [],
      "source": [
        "#https://drive.google.com/file/d/1S_vpQntND9839x8kJpegaEgtSIA4JxHO/view?usp=sharing\n",
        "!gdown --id 1S_vpQntND9839x8kJpegaEgtSIA4JxHO\n",
        "!unzip Test_Dataset.zip"
      ]
    },
    {
      "cell_type": "code",
      "execution_count": 21,
      "id": "be46ba26",
      "metadata": {
        "id": "be46ba26",
        "colab": {
          "base_uri": "https://localhost:8080/",
          "height": 144
        },
        "outputId": "9bc528cb-766b-4e31-eecc-cc6a0f6918ba"
      },
      "outputs": [
        {
          "output_type": "error",
          "ename": "NameError",
          "evalue": "name 'model' is not defined",
          "traceback": [
            "\u001b[0;31m---------------------------------------------------------------------------\u001b[0m",
            "\u001b[0;31mNameError\u001b[0m                                 Traceback (most recent call last)",
            "\u001b[0;32m<ipython-input-21-b7ee215d0bc2>\u001b[0m in \u001b[0;36m<cell line: 1>\u001b[0;34m()\u001b[0m\n\u001b[0;32m----> 1\u001b[0;31m \u001b[0mmodel\u001b[0m\u001b[0;34m.\u001b[0m\u001b[0mpredict_classes\u001b[0m\u001b[0;34m(\u001b[0m\u001b[0mTest_Dataset\u001b[0m\u001b[0;34m)\u001b[0m\u001b[0;34m\u001b[0m\u001b[0;34m\u001b[0m\u001b[0m\n\u001b[0m",
            "\u001b[0;31mNameError\u001b[0m: name 'model' is not defined"
          ]
        }
      ],
      "source": [
        "model.predict_classes(Test_Dataset)"
      ]
    },
    {
      "cell_type": "markdown",
      "id": "8430600d",
      "metadata": {
        "id": "8430600d"
      },
      "source": [
        "## Model Performance Visualization\n",
        "Visualize performance metrics such as accuracy and loss over the epochs."
      ]
    },
    {
      "cell_type": "code",
      "execution_count": null,
      "id": "50624cfe",
      "metadata": {
        "id": "50624cfe"
      },
      "outputs": [],
      "source": []
    },
    {
      "cell_type": "markdown",
      "id": "8d4f3348",
      "metadata": {
        "id": "8d4f3348"
      },
      "source": [
        "## Save the Model\n",
        "Save the trained CNN model for submission."
      ]
    },
    {
      "cell_type": "code",
      "execution_count": null,
      "id": "fe6b2df0",
      "metadata": {
        "id": "fe6b2df0"
      },
      "outputs": [],
      "source": [
        "model.save('CNN')"
      ]
    },
    {
      "cell_type": "markdown",
      "id": "ed90995f",
      "metadata": {
        "id": "ed90995f"
      },
      "source": [
        "## Project Questions:\n",
        "\n",
        "1. **Data Preprocessing**: Explain why you chose your specific data preprocessing techniques (e.g., resizing images, normalization, data augmentation). How do these preprocessing steps improve the performance of your CNN model?\n",
        "2. **Model Architecture**: Describe the architecture of your CNN model (e.g., number of convolutional layers, kernel sizes, pooling layers). Why did you choose this structure, and how do you expect each layer to contribute to feature extraction?\n",
        "3. **Activation Functions**: Justify your choice of activation functions. How do they influence the training and output of your CNN?\n",
        "4. **Training Process**: Discuss your choice of batch size, number of epochs, and optimizer. How did these decisions impact the training process and the convergence of the model?\n",
        "5. **Loss Function and Metrics**: Explain why you chose the specific loss function and evaluation metrics for this classification task. How do they align with the goal of correctly classifying traffic signs?\n",
        "6. **Regularization Techniques**: If you used regularization methods like dropout or batch normalization, explain why you implemented them and how they helped prevent overfitting in your model.\n",
        "7. **Model Evaluation**: Justify the method you used to evaluate your model's performance on the test set. Why did you select these evaluation techniques, and what insights did they provide about your model's accuracy and generalization ability?\n",
        "8. **Model Visualization**: Explain the significance of the performance visualizations (e.g., accuracy and loss curves). What do they tell you about your model's training process and its ability to generalize?\n",
        "9. **Overfitting and Underfitting**: Analyze whether the model encountered any overfitting or underfitting during training. What strategies could you implement to mitigate these issues?"
      ]
    },
    {
      "cell_type": "markdown",
      "id": "02e7f114",
      "metadata": {
        "id": "02e7f114"
      },
      "source": [
        "### Answer Here:\n",
        "\n",
        "1. \\\n",
        "normlizing the image kinda constant first to check if their are grayscalled or coloured to make sure to have the correct number of channels in our case it is coloured so it shoulf be asign to ( , 128, 128, 3)\n",
        "\n",
        "2. \\\n",
        "for my model architecture since we are dealing with images it should be CNN and after importing the needed libraried I choosed to have 3 convolutional layers along with its pooling and batch normlizers and to have 3 dense layers last one is sigmoid since we are predicting binary\n",
        "\n",
        "3. \\\n",
        "I choosed it to be binary to justify if there is a trafffic sign or not but it can be easily multiclass if we have labelled data in out=r data and we can choose the softmax not the sigmoid in multiclass predction case  but it our case sigmoid for binary and with threshold of 0.5 for predicting if there is a sign or not\n",
        "\n",
        "4. \\\n",
        "for epochs I choosed it to be 10 for faster training and the batch size is 24 since my data is not that big, but it might be usefull for the epochs to be more like we used to see in many usecases of 32 epochs and 42 batchsize for larger datasets to get better training and results in better model and better results.\n",
        "\n",
        "5. \\\n",
        "choosing binary class entropy since my model is based on classification and my optimizer to be adam since most of usecases I have seen using it and for sure using accuracy to check how well model performs.\n",
        "\n",
        "6. \\\n",
        "using dropout, batch normlizer inside my model to avoid  overfitting.\n",
        "\n",
        "7. \\\n",
        "depending on the result of evaluation as long as we have higher accuracy and less loss that what we need but since our data is not that huge we don't expect out ANN to perform very high .. as the DL needs huge data to learn better.\n",
        "\n",
        "8. \\\n",
        "visulizing makes it easy to understand as a human if the curve showing improving in the training data ot in the test data that the model haven't seen yet\n",
        "\n",
        "9. \\\n",
        "adding to many regulization technique can led to underfit and skipping them can led to overfit.\n",
        "\n",
        "\n"
      ]
    }
  ],
  "metadata": {
    "language_info": {
      "name": "python"
    },
    "colab": {
      "provenance": [],
      "include_colab_link": true
    },
    "kernelspec": {
      "name": "python3",
      "display_name": "Python 3"
    }
  },
  "nbformat": 4,
  "nbformat_minor": 5
}